{
 "cells": [
  {
   "cell_type": "code",
   "execution_count": 1,
   "metadata": {},
   "outputs": [
    {
     "name": "stderr",
     "output_type": "stream",
     "text": [
      "2023-07-08 13:37:03.213891: I tensorflow/tsl/cuda/cudart_stub.cc:28] Could not find cuda drivers on your machine, GPU will not be used.\n",
      "2023-07-08 13:37:03.466838: I tensorflow/tsl/cuda/cudart_stub.cc:28] Could not find cuda drivers on your machine, GPU will not be used.\n",
      "2023-07-08 13:37:05.417345: W tensorflow/compiler/tf2tensorrt/utils/py_utils.cc:38] TF-TRT Warning: Could not find TensorRT\n"
     ]
    }
   ],
   "source": [
    "import streamlit as st\n",
    "import pandas as pd\n",
    "import plotly.graph_objs as go\n",
    "from keras.models import load_model\n",
    "from sklearn.preprocessing import MinMaxScaler\n",
    "import numpy as np\n",
    "\n",
    "scaler = MinMaxScaler(feature_range=(0,1))"
   ]
  },
  {
   "cell_type": "code",
   "execution_count": 2,
   "metadata": {},
   "outputs": [],
   "source": [
    "df_nse = pd.read_csv(\"/home/sherherd/Desktop/Assign/Dennoh/project.ipynb/NSE-Tata-Global-Beverages-Limited.csv\")\n",
    "\n",
    "df_nse[\"Date\"] = pd.to_datetime(df_nse.Date, format=\"%Y-%m-%d\")\n",
    "df_nse.index = df_nse['Date']\n",
    "\n",
    "data = df_nse.sort_index(ascending=True, axis=0)\n",
    "new_data = pd.DataFrame(index=range(0, len(df_nse)), columns=['Date', 'Close'])"
   ]
  },
  {
   "cell_type": "code",
   "execution_count": 3,
   "metadata": {},
   "outputs": [],
   "source": [
    "for i in range(0, len(data)):\n",
    "    new_data[\"Date\"][i] = data['Date'][i]\n",
    "    new_data[\"Close\"][i] = data[\"Close\"][i]\n",
    "\n",
    "new_data.index = new_data.Date\n",
    "new_data.drop(\"Date\", axis=1, inplace=True)\n"
   ]
  },
  {
   "cell_type": "code",
   "execution_count": 4,
   "metadata": {},
   "outputs": [],
   "source": [
    "dataset = new_data.values\n",
    "\n",
    "train = dataset[0:987, :]\n",
    "valid = dataset[987:, :]\n",
    "\n",
    "scaler = MinMaxScaler(feature_range=(0,1))\n",
    "scaled_data = scaler.fit_transform(dataset)\n"
   ]
  },
  {
   "cell_type": "code",
   "execution_count": 5,
   "metadata": {},
   "outputs": [
    {
     "name": "stderr",
     "output_type": "stream",
     "text": [
      "2023-07-08 13:37:12.937916: I tensorflow/core/common_runtime/executor.cc:1197] [/device:CPU:0] (DEBUG INFO) Executor start aborting (this does not indicate an error and you can ignore this message): INVALID_ARGUMENT: You must feed a value for placeholder tensor 'gradients/split_2_grad/concat/split_2/split_dim' with dtype int32\n",
      "\t [[{{node gradients/split_2_grad/concat/split_2/split_dim}}]]\n",
      "2023-07-08 13:37:12.941474: I tensorflow/core/common_runtime/executor.cc:1197] [/device:CPU:0] (DEBUG INFO) Executor start aborting (this does not indicate an error and you can ignore this message): INVALID_ARGUMENT: You must feed a value for placeholder tensor 'gradients/split_grad/concat/split/split_dim' with dtype int32\n",
      "\t [[{{node gradients/split_grad/concat/split/split_dim}}]]\n",
      "2023-07-08 13:37:12.946396: I tensorflow/core/common_runtime/executor.cc:1197] [/device:CPU:0] (DEBUG INFO) Executor start aborting (this does not indicate an error and you can ignore this message): INVALID_ARGUMENT: You must feed a value for placeholder tensor 'gradients/split_1_grad/concat/split_1/split_dim' with dtype int32\n",
      "\t [[{{node gradients/split_1_grad/concat/split_1/split_dim}}]]\n",
      "2023-07-08 13:37:13.564934: I tensorflow/core/common_runtime/executor.cc:1197] [/device:CPU:0] (DEBUG INFO) Executor start aborting (this does not indicate an error and you can ignore this message): INVALID_ARGUMENT: You must feed a value for placeholder tensor 'gradients/split_2_grad/concat/split_2/split_dim' with dtype int32\n",
      "\t [[{{node gradients/split_2_grad/concat/split_2/split_dim}}]]\n",
      "2023-07-08 13:37:13.567957: I tensorflow/core/common_runtime/executor.cc:1197] [/device:CPU:0] (DEBUG INFO) Executor start aborting (this does not indicate an error and you can ignore this message): INVALID_ARGUMENT: You must feed a value for placeholder tensor 'gradients/split_grad/concat/split/split_dim' with dtype int32\n",
      "\t [[{{node gradients/split_grad/concat/split/split_dim}}]]\n",
      "2023-07-08 13:37:13.570405: I tensorflow/core/common_runtime/executor.cc:1197] [/device:CPU:0] (DEBUG INFO) Executor start aborting (this does not indicate an error and you can ignore this message): INVALID_ARGUMENT: You must feed a value for placeholder tensor 'gradients/split_1_grad/concat/split_1/split_dim' with dtype int32\n",
      "\t [[{{node gradients/split_1_grad/concat/split_1/split_dim}}]]\n"
     ]
    }
   ],
   "source": [
    "x_train, y_train = [], []\n",
    "\n",
    "for i in range(60, len(train)):\n",
    "    x_train.append(scaled_data[i-60:i, 0])\n",
    "    y_train.append(scaled_data[i, 0])\n",
    "\n",
    "x_train, y_train = np.array(x_train), np.array(y_train)\n",
    "\n",
    "x_train = np.reshape(x_train, (x_train.shape[0], x_train.shape[1], 1))\n",
    "\n",
    "model = load_model(\"/home/sherherd/Desktop/Assign/Dennoh/project.ipynb/saved_lstm_model.h5\")"
   ]
  },
  {
   "cell_type": "code",
   "execution_count": 6,
   "metadata": {},
   "outputs": [],
   "source": [
    "inputs = new_data[len(new_data)-len(valid)-60:].values\n",
    "inputs = inputs.reshape(-1, 1)\n",
    "inputs = scaler.transform(inputs)\n",
    "\n",
    "X_test = []\n",
    "for i in range(60, inputs.shape[0]):\n",
    "    X_test.append(inputs[i-60:i, 0])\n",
    "X_test = np.array(X_test)"
   ]
  },
  {
   "cell_type": "code",
   "execution_count": 7,
   "metadata": {},
   "outputs": [
    {
     "name": "stderr",
     "output_type": "stream",
     "text": [
      "2023-07-08 13:37:14.667392: I tensorflow/core/common_runtime/executor.cc:1197] [/device:CPU:0] (DEBUG INFO) Executor start aborting (this does not indicate an error and you can ignore this message): INVALID_ARGUMENT: You must feed a value for placeholder tensor 'gradients/split_2_grad/concat/split_2/split_dim' with dtype int32\n",
      "\t [[{{node gradients/split_2_grad/concat/split_2/split_dim}}]]\n",
      "2023-07-08 13:37:14.671565: I tensorflow/core/common_runtime/executor.cc:1197] [/device:CPU:0] (DEBUG INFO) Executor start aborting (this does not indicate an error and you can ignore this message): INVALID_ARGUMENT: You must feed a value for placeholder tensor 'gradients/split_grad/concat/split/split_dim' with dtype int32\n",
      "\t [[{{node gradients/split_grad/concat/split/split_dim}}]]\n",
      "2023-07-08 13:37:14.676826: I tensorflow/core/common_runtime/executor.cc:1197] [/device:CPU:0] (DEBUG INFO) Executor start aborting (this does not indicate an error and you can ignore this message): INVALID_ARGUMENT: You must feed a value for placeholder tensor 'gradients/split_1_grad/concat/split_1/split_dim' with dtype int32\n",
      "\t [[{{node gradients/split_1_grad/concat/split_1/split_dim}}]]\n",
      "2023-07-08 13:37:15.592870: I tensorflow/core/common_runtime/executor.cc:1197] [/device:CPU:0] (DEBUG INFO) Executor start aborting (this does not indicate an error and you can ignore this message): INVALID_ARGUMENT: You must feed a value for placeholder tensor 'gradients/split_2_grad/concat/split_2/split_dim' with dtype int32\n",
      "\t [[{{node gradients/split_2_grad/concat/split_2/split_dim}}]]\n",
      "2023-07-08 13:37:15.596648: I tensorflow/core/common_runtime/executor.cc:1197] [/device:CPU:0] (DEBUG INFO) Executor start aborting (this does not indicate an error and you can ignore this message): INVALID_ARGUMENT: You must feed a value for placeholder tensor 'gradients/split_grad/concat/split/split_dim' with dtype int32\n",
      "\t [[{{node gradients/split_grad/concat/split/split_dim}}]]\n",
      "2023-07-08 13:37:15.599223: I tensorflow/core/common_runtime/executor.cc:1197] [/device:CPU:0] (DEBUG INFO) Executor start aborting (this does not indicate an error and you can ignore this message): INVALID_ARGUMENT: You must feed a value for placeholder tensor 'gradients/split_1_grad/concat/split_1/split_dim' with dtype int32\n",
      "\t [[{{node gradients/split_1_grad/concat/split_1/split_dim}}]]\n"
     ]
    },
    {
     "name": "stdout",
     "output_type": "stream",
     "text": [
      "8/8 [==============================] - 3s 43ms/step\n"
     ]
    },
    {
     "name": "stderr",
     "output_type": "stream",
     "text": [
      "/tmp/ipykernel_5258/2862448319.py:7: SettingWithCopyWarning: \n",
      "A value is trying to be set on a copy of a slice from a DataFrame.\n",
      "Try using .loc[row_indexer,col_indexer] = value instead\n",
      "\n",
      "See the caveats in the documentation: https://pandas.pydata.org/pandas-docs/stable/user_guide/indexing.html#returning-a-view-versus-a-copy\n",
      "  valid['Predictions'] = closing_price\n"
     ]
    }
   ],
   "source": [
    "X_test = np.reshape(X_test, (X_test.shape[0], X_test.shape[1], 1))\n",
    "closing_price = model.predict(X_test)\n",
    "closing_price = scaler.inverse_transform(closing_price)\n",
    "\n",
    "train = new_data[:987]\n",
    "valid = new_data[987:]\n",
    "valid['Predictions'] = closing_price"
   ]
  },
  {
   "cell_type": "code",
   "execution_count": 8,
   "metadata": {},
   "outputs": [],
   "source": [
    "df = pd.read_csv(\"stock_data.csv\")"
   ]
  },
  {
   "cell_type": "code",
   "execution_count": 13,
   "metadata": {},
   "outputs": [
    {
     "name": "stderr",
     "output_type": "stream",
     "text": [
      "2023-07-08 13:38:46.383 \n",
      "  \u001b[33m\u001b[1mWarning:\u001b[0m to view this Streamlit app on a browser, run it with the following\n",
      "  command:\n",
      "\n",
      "    streamlit run /home/sherherd/.local/lib/python3.9/site-packages/ipykernel_launcher.py [ARGUMENTS]\n"
     ]
    }
   ],
   "source": [
    "st.title(\"Stock Price Analysis Dashboard\")\n",
    "\n",
    "tabs = [\"NSE-TATAGLOBAL Stock Data\", \"Facebook Stock Data\"]\n",
    "selected_tab = st.selectbox(\"Select dataset\", tabs)\n",
    "\n",
    "if selected_tab == \"NSE-TATAGLOBAL Stock Data\":\n",
    "    st.header(\"Actual closing price\")\n",
    "    fig_actual = go.Figure(data=go.Scatter(x=train.index, y=valid[\"Close\"], mode='markers'))\n",
    "    fig_actual.update_layout(title='Scatter plot', xaxis={'title': 'Date'}, yaxis={'title': 'Closing Rate'})\n",
    "    st.plotly_chart(fig_actual)\n",
    "\n",
    "    st.header(\"LSTM Predicted closing price\")\n",
    "    fig_predicted = go.Figure(data=go.Scatter(x=valid.index, y=valid[\"Predictions\"], mode='markers'))\n",
    "    fig_predicted.update_layout(title='Scatter plot', xaxis={'title': 'Date'}, yaxis={'title': 'Closing Rate'})\n",
    "    st.plotly_chart(fig_predicted)\n",
    "\n",
    "elif selected_tab == \"Facebook Stock Data\":\n",
    "    st.header(\"Facebook Stocks High vs Lows\")\n",
    "    selected_stocks = st.multiselect(\"Select stocks\", ['TSLA', 'AAPL', 'FB', 'MSFT'], default=['FB'])\n",
    "    dropdown = {\"TSLA\": \"Tesla\", \"AAPL\": \"Apple\", \"FB\": \"Facebook\", \"MSFT\": \"Microsoft\"}\n",
    "\n",
    "    fig_highlow = go.Figure()\n",
    "    for stock in selected_stocks:\n",
    "        fig_highlow.add_trace(go.Scatter(x=df[df[\"Stock\"] == stock][\"Date\"],\n",
    "                                         y=df[df[\"Stock\"] == stock][\"High\"],\n",
    "                                         mode='lines',\n",
    "                                         opacity=0.7,\n",
    "                                         name=f'High {dropdown[stock]}',\n",
    "                                         textposition='bottom center'))\n",
    "    fig_highlow.update_layout(title=f\"High and Low Prices for {', '.join(str(dropdown[i]) for i in selected_stocks)} Over Time\",\n",
    "                              xaxis={\"title\": \"Date\",\n",
    "                                     'rangeselector': {'buttons': list([{'count': 1, 'label': '1M', 'step': 'month',\n",
    "                                                                          'stepmode': 'backward'},\n",
    "                                                                         {'count': 6, 'label': '6M', 'step': 'month',\n",
    "                                                                          'stepmode': 'backward'},\n",
    "                                                                         {'step': 'all'}])},\n",
    "                                     'rangeslider': {'visible': True},\n",
    "                                     'type': 'date'},\n",
    "                              yaxis={\"title\": \"Price (USD)\"})\n",
    "    st.plotly_chart(fig_highlow)\n",
    "\n",
    "    st.header(\"Facebook Market Volume\")\n",
    "    fig_volume = go.Figure()\n",
    "    for stock in selected_stocks:\n",
    "        fig_volume.add_trace(go.Scatter(x=df[df[\"Stock\"] == stock][\"Date\"],\n",
    "                                        y=df[df[\"Stock\"] == stock][\"Volume\"],\n",
    "                                        mode='lines',\n",
    "                                        opacity=0.7,\n",
    "                                        name=f'Volume {dropdown[stock]}',\n",
    "                                        textposition='bottom center'))\n",
    "    fig_volume.update_layout(title=f\"Market Volume for {', '.join(str(dropdown[i]) for i in selected_stocks)} Over Time\",\n",
    "                             xaxis={\"title\": \"Date\",\n",
    "                                    'rangeselector': {'buttons': list([{'count': 1, 'label': '1M', 'step': 'month',\n",
    "                                                                         'stepmode': 'backward'},\n",
    "                                                                        {'count': 6, 'label': '6M', 'step': 'month',\n",
    "                                                                         'stepmode': 'backward'},\n",
    "                                                                        {'step': 'all'}])},\n",
    "                                    'rangeslider': {'visible': True},\n",
    "                                    'type': 'date'},\n",
    "                             yaxis={\"title\": \"Transactions Volume\"})\n",
    "    st.plotly_chart(fig_volume)\n"
   ]
  }
 ],
 "metadata": {
  "kernelspec": {
   "display_name": "Python 3",
   "language": "python",
   "name": "python3"
  },
  "language_info": {
   "codemirror_mode": {
    "name": "ipython",
    "version": 3
   },
   "file_extension": ".py",
   "mimetype": "text/x-python",
   "name": "python",
   "nbconvert_exporter": "python",
   "pygments_lexer": "ipython3",
   "version": "3.9.2"
  },
  "orig_nbformat": 4
 },
 "nbformat": 4,
 "nbformat_minor": 2
}
